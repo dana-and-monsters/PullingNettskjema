{
 "cells": [
  {
   "cell_type": "markdown",
   "metadata": {},
   "source": [
    "# Collecting responses via Nettskjema API\n",
    "The following notebook details how to use the Nettskjema API to retrieve responses collected via these webforms. This example combines informatiom from the exiting documentation on this API's structure (https://utv.uio.no/docs/nettskjema/api/), code samples of the python library request, documentation of the r library nettskjemar, and some trial and error.\n",
    "\n",
    "In order to access the Nettskjema API, you need:\n",
    "\n",
    "    1) a token (string key) with editing rights to the form in questions\n",
    "    2) a connection from a suitable IP address (such as on the UIO network)\n",
    "    3) suitable commands for retrieving the data"
   ]
  },
  {
   "cell_type": "markdown",
   "metadata": {},
   "source": [
    "## Getting access to the API\n",
    "In order to access a form through the API, you need to generate an api account for your uio account, generate a unique token with suitable roles for that api account, and grant that api account editing privileges for the form(s) you want to access via the API. This is the link to set up and edit your api account within the nettskjema webinterface: https://nettskjema.no/user/api/index.html\n",
    "\n",
    "So first set up an account with a simple name and description, then click on that generated account and generate a token with suitable rolls and IP restrictions. Tokens are strings that act as keys so the system knows who is logging in to the API and that they have permission to do specific things. If you are only downloading responses via API (instead of setting up and editing forms), your token needs only the rolls []READ_SUBMISSIONS and []READ_FORMS. If you leave the default IP address range, you can access the API from computers on the UiO network. This include machines logged into remotely (like through VMware Horizon).\n",
    "\n",
    "When you generate/save the token, the next screen shows you the token string. **COPY AND PASTE THIS INTO A FILE RIGHT AWAY as you will never be able to retrieve it again.** (Though it is easy to just generate another token if needed.) This notebook reads a local directory file called 'nettskjema_token.txt' to get the token string.  \n",
    "\n",
    "Once you have the token with suitable rolls, click over to your form. Under the rights tab (Rettigheter) should be a list of nettskjema users who have editing rights on this form. So long as you are in one of those accounts, you can add your api account as: \"*yourapiaccountname*@api\". Note: Once you save, it will show up as \"*yourapiaccountname* @ api\" but there are no spaces in the user name when you are pasting it in. You can check if the rights have been granted properly by going back to your api account details (under https://nettskjema.no/user/api/index.html) and making sure the form is listed in the Skjemaer table."
   ]
  },
  {
   "cell_type": "markdown",
   "metadata": {},
   "source": [
    "Once the rights have been granted, we can use the token to access the API programatically. The API documentation gives examples of curl commands, that can be run from the command like or terminal (https://utv.uio.no/docs/nettskjema/api/). Below are examples of performing the same tasks with python's request library. Also available is an r library developped by UiO research group LCBC to pull response data directly into r data formats, though it does not support extraction of attachments as we need for MusicLab. (more info on *nettskjemar*: https://lcbc-uio.github.io/nettskjemar/index.html) "
   ]
  },
  {
   "cell_type": "markdown",
   "metadata": {},
   "source": [
    "# Accessing the API via Request"
   ]
  },
  {
   "cell_type": "code",
   "execution_count": 8,
   "metadata": {},
   "outputs": [],
   "source": [
    "import requests\n",
    "import json\n",
    "import zipfile\n",
    "# import socket\n",
    "import os\n",
    "import base64\n",
    "#import time"
   ]
  },
  {
   "cell_type": "markdown",
   "metadata": {},
   "source": [
    "navigate to the directory storing your *nettskjema_token.txt* file"
   ]
  },
  {
   "cell_type": "code",
   "execution_count": 9,
   "metadata": {},
   "outputs": [
    {
     "data": {
      "text/plain": [
       "['PullingNettskjema.ipynb',\n",
       " 'README.md',\n",
       " '.gitignore',\n",
       " '.ipynb_checkpoints',\n",
       " '.git',\n",
       " 'nettskjema_token.txt']"
      ]
     },
     "execution_count": 9,
     "metadata": {},
     "output_type": "execute_result"
    }
   ],
   "source": [
    "# os.chdir('M:\\\\finnu\\\\kant\\\\div-ritmo-u1')\n",
    "# os.chdir('M:\\\\research')\n",
    "os.listdir()"
   ]
  },
  {
   "cell_type": "code",
   "execution_count": 15,
   "metadata": {},
   "outputs": [],
   "source": [
    "f=open('nettskjema_token.txt','r')\n",
    "TOKEN = f.read()\n",
    "f.close()"
   ]
  },
  {
   "cell_type": "markdown",
   "metadata": {},
   "source": [
    "Set up a request session with the token information saved into the authentication settings. This allows us to skip spelling out the token string in this notebook with every API request sent."
   ]
  },
  {
   "cell_type": "code",
   "execution_count": 16,
   "metadata": {},
   "outputs": [],
   "source": [
    "session = requests.Session()\n",
    "session.headers.update({'Authorization': 'Bearer ' + TOKEN})"
   ]
  },
  {
   "cell_type": "markdown",
   "metadata": {},
   "source": [
    "Test the token by sending a request to see its expiration date."
   ]
  },
  {
   "cell_type": "code",
   "execution_count": 18,
   "metadata": {},
   "outputs": [
    {
     "data": {
      "text/plain": [
       "b'{\"expireDate\":\"2022-10-18T17:38:29.000+0200\"}'"
      ]
     },
     "execution_count": 18,
     "metadata": {},
     "output_type": "execute_result"
    }
   ],
   "source": [
    "# confirm the token is working on this IP with the check on expiry date\n",
    "request_url = \"https://nettskjema.no/api/v2/users/admin/tokens/expire-date\"\n",
    "response = session.get(request_url)\n",
    "response.content"
   ]
  },
  {
   "cell_type": "markdown",
   "metadata": {},
   "source": [
    " If the token is broken or wrong or too old, you will get an error message: \n",
    "\n",
    "`b'{\"statusCode\":400,\"message\":\"Not token authenticated\",\"errors\":null,\"nestedErrors\":null}'`\n",
    "\n",
    "If the token is recognised, the output will be just the expiry date:\n",
    "\n",
    "`b'{\"expireDate\":\"2022-10-18T17:38:29.000+0200\"}'`\n",
    "\n",
    "the 'b' before the response string indicates that the API reponse is transmited in bytes that are here being interpreted into ascii. This formate is important to handle carefully when retreiving response attachments that are compressed and encripted. More on that later. "
   ]
  },
  {
   "cell_type": "markdown",
   "metadata": {},
   "source": [
    "## Calling for Form metadata\n",
    "\n",
    "If the token is working, next request information about the form you want to get data from. For this you need the formID number, a unique integer assigned by Nettskjema when the form was created. This is at the end of the form URL (ex: 225781 in https://nettskjema.no/a/225781). The page describing which forms your API account has access to also includes these ID numbers (https://nettskjema.no/user/api/index.html#/user)"
   ]
  },
  {
   "cell_type": "markdown",
   "metadata": {},
   "source": [
    "The basic request to retreive metadata gives the description of who has access and editing rights, some history of the form, and the content of the form. \n",
    "\n",
    "The information returned to requests about forms are json files which can easily be converted into python dictionaries. It is possible to delete and edit forms through the API, but this isn't described here.\n",
    "\n",
    "The information returned to requests about forms are json files which can easily be converted into python dictionaries.  "
   ]
  },
  {
   "cell_type": "code",
   "execution_count": 28,
   "metadata": {},
   "outputs": [
    {
     "data": {
      "text/plain": [
       "{'formId': 225781,\n",
       " 'languageCode': 'en',\n",
       " 'title': '0 Physically Present Participant Number',\n",
       " 'deliveryDestination': 'DATABASE',\n",
       " 'formType': 'DEFAULT',\n",
       " 'theme': 'DEFAULT',\n",
       " 'createdBy': {'personId': 616293,\n",
       "  'username': 'danasw@uio.no',\n",
       "  'fullName': 'Dana Swarbrick',\n",
       "  'name': 'Dana Swarbrick',\n",
       "  'type': 'LOCAL'},\n",
       " 'modifiedBy': {'personId': 1676908,\n",
       "  'username': 'finnu@uio.no',\n",
       "  'fullName': 'Finn Upham',\n",
       "  'name': 'Finn Upham',\n",
       "  'type': 'LOCAL'},\n",
       " 'createdDate': '2021-10-21T09:39:49.000+0200',\n",
       " 'modifiedDate': '2021-10-28T16:29:27.000+0200',\n",
       " 'openFrom': '2021-10-27T09:44:45.000+0200',\n",
       " 'respondentGroup': 'ALL',\n",
       " 'editorsContactEmail': 'danasw@uio.no',\n",
       " 'editorsSubmissionEmailType': 'NONE',\n",
       " 'editors': [{'personId': 1914058,\n",
       "   'username': 'finnu1@api',\n",
       "   'fullName': 'finn ritmo access',\n",
       "   'name': 'finn ritmo access',\n",
       "   'type': 'API'},\n",
       "  {'personId': 1676908,\n",
       "   'username': 'finnu@uio.no',\n",
       "   'fullName': 'Finn Upham',\n",
       "   'name': 'Finn Upham',\n",
       "   'type': 'LOCAL'},\n",
       "  {'personId': 616293,\n",
       "   'username': 'danasw@uio.no',\n",
       "   'fullName': 'Dana Swarbrick',\n",
       "   'name': 'Dana Swarbrick',\n",
       "   'type': 'LOCAL'}],\n",
       " 'collectsPersonalData': False,\n",
       " 'maxSubmissionsPerson': 1,\n",
       " 'retainRespondentAccessAfterDelivery': False,\n",
       " 'clientPostponable': False,\n",
       " 'scoreResultDisplayType': 'NONE',\n",
       " 'sensitivePersonalDataCollected': False,\n",
       " 'codebookActivated': False,\n",
       " 'shouldHideProgressBar': False,\n",
       " 'shouldPreventDataManipulation': False,\n",
       " 'shouldGetRespondentInfoFromPerson': False,\n",
       " 'elements': [{'elementId': 3485744,\n",
       "   'elementType': 'QUESTION',\n",
       "   'sequence': 1,\n",
       "   'questions': [{'questionId': 3741786,\n",
       "     'sequence': 1,\n",
       "     'elementType': 'QUESTION',\n",
       "     'mandatory': False,\n",
       "     'text': 'userID',\n",
       "     'sendAdditionalRecipientEmail': False,\n",
       "     'horizontal': False,\n",
       "     'rangeMarksShown': False}]},\n",
       "  {'elementId': 3485745,\n",
       "   'elementType': 'QUESTION',\n",
       "   'sequence': 2,\n",
       "   'questions': [{'questionId': 3741787,\n",
       "     'sequence': 1,\n",
       "     'elementType': 'QUESTION',\n",
       "     'mandatory': False,\n",
       "     'text': 'What is the participants&#39; ID number?',\n",
       "     'sendAdditionalRecipientEmail': False,\n",
       "     'horizontal': False,\n",
       "     'rangeMarksShown': False}]}],\n",
       " 'newDesignEnabledSetting': 'ALWAYS',\n",
       " 'open': True,\n",
       " 'possibleToHaveInvitations': False,\n",
       " 'sendingReceiptToRespondent': False}"
      ]
     },
     "execution_count": 28,
     "metadata": {},
     "output_type": "execute_result"
    }
   ],
   "source": [
    "# example metadata API request with simple form of one question.\n",
    "# equivalent curl command\n",
    "#  $ curl 'https://nettskjema.no/api/v2/forms/225781' -i -X GET -H 'Authorization: Bearer TOKEN'\n",
    "\n",
    "formID = 225781\n",
    "request_url = 'https://nettskjema.no/api/v2/forms/' + str(formID)\n",
    "response = session.get(request_url) # using the request session call which includes the saved API token\n",
    "form_metadata = json.loads(response.content.decode()) # inteprete recieved string into a python native datatype\n",
    "form_metadata # show the information output"
   ]
  },
  {
   "cell_type": "markdown",
   "metadata": {},
   "source": [
    "If you do not have access rights to a form, or if you are trying to access the API from an IP address that isn't in the range specified by your token, you get API errors instead, like:\n",
    "\n",
    " `{'statusCode': 403,\n",
    " 'message': 'No access to form with id 225782.',\n",
    " 'errors': None,\n",
    " 'nestedErrors': None}`\n",
    " \n",
    " `{'statusCode': 404,\n",
    " 'message': 'Could not find form with id 22578.',\n",
    " 'errors': None,\n",
    " 'nestedErrors': None}`\n",
    " \n",
    " "
   ]
  },
  {
   "cell_type": "code",
   "execution_count": 49,
   "metadata": {},
   "outputs": [
    {
     "data": {
      "text/plain": [
       "{'statusCode': 403,\n",
       " 'message': 'No access to form with id 225782.',\n",
       " 'errors': None,\n",
       " 'nestedErrors': None}"
      ]
     },
     "execution_count": 49,
     "metadata": {},
     "output_type": "execute_result"
    }
   ],
   "source": [
    "formID = 225782\n",
    "request_url = 'https://nettskjema.no/api/v2/forms/' + str(formID)\n",
    "response = session.get(request_url) # using the request session call which includes the saved API token\n",
    "form_metadata = json.loads(response.content.decode()) # inteprete recieved string into a python native datatype\n",
    "form_metadata # show the information output"
   ]
  },
  {
   "cell_type": "markdown",
   "metadata": {},
   "source": [
    "A slight change in the requestion URL calls instead for metadata on the responses, called \"submissions\" by the API. The returned info is made into a list of dictionaries with standard information about response (installation ID, submission ID, created and modified dates) as well as all the form responses. \n",
    "\n",
    "Responses are listed in reverse chronological order, meaning the last response is the first submission in the list. "
   ]
  },
  {
   "cell_type": "code",
   "execution_count": 34,
   "metadata": {},
   "outputs": [
    {
     "data": {
      "text/plain": [
       "[{'submissionId': 16674015,\n",
       "  'createdDate': '2021-10-27T00:00:00.000+0200',\n",
       "  'modifiedDate': '2021-10-27T00:00:00.000+0200',\n",
       "  'delivered': True,\n",
       "  'answerTime': 0,\n",
       "  'answers': [{'answerId': 102748640,\n",
       "    'questionId': 3741786,\n",
       "    'textAnswer': '40bf6287-e5a4-8a30-8863-cc71c9ef7225'},\n",
       "   {'answerId': 102748641, 'questionId': 3741787, 'textAnswer': 'Finn'}]},\n",
       " {'submissionId': 16653694,\n",
       "  'createdDate': '2021-10-26T00:00:00.000+0200',\n",
       "  'modifiedDate': '2021-10-26T00:00:00.000+0200',\n",
       "  'delivered': True,\n",
       "  'answerTime': 0,\n",
       "  'answers': [{'answerId': 102664391,\n",
       "    'questionId': 3741786,\n",
       "    'textAnswer': '08ff9d8a-6bc2-897f-24d3-91eb10717741'}]}]"
      ]
     },
     "execution_count": 34,
     "metadata": {},
     "output_type": "execute_result"
    }
   ],
   "source": [
    "formID = 225781\n",
    "request_url = 'https://nettskjema.no/api/v2/forms/' + str(formID) + '/submissions' \n",
    "response = session.get(request_url) # using the request session call which includes the saved API token\n",
    "sub_metadata = json.loads(response.content.decode()) # inteprete recieved string into a python native datatype\n",
    "sub_metadata[:2] # last two responses recieved"
   ]
  },
  {
   "cell_type": "markdown",
   "metadata": {},
   "source": [
    "It is possible to request subsets of responses, by the time of submission as well as by submission ID range. Submission IDs increase monotonically, assigned uniquely across all of Nettskjema.no, so a conveninent trick when downloading responses from an active survey is to call for only those submissions recieved since the last time the data was downloaded. \n",
    "\n",
    "It is also possible to specify that you only want the submission ID, as sometimes there is no need to download the full responses. "
   ]
  },
  {
   "cell_type": "code",
   "execution_count": 45,
   "metadata": {},
   "outputs": [
    {
     "name": "stdout",
     "output_type": "stream",
     "text": [
      "Submissions since date 2021-10-25T08%3A27%3A22.000%2B0100: 21539\n",
      "[{'submissionId': 16767882}, {'submissionId': 16767875}]\n"
     ]
    }
   ],
   "source": [
    "# how to call submissions from after a certain date\n",
    "\n",
    "# curl command template\"\n",
    "# $ curl 'https://nettskjema.no/api/v2/forms/8432376/submissions?fields=submissionId&fromDate=2021-01-11T13%3A43%3A17.486%2B0100' -i -X GET -H 'Authorization: Bearer TOKEN'\n",
    "\n",
    "formID = 141510\n",
    "# 2021-10-25T08:27:22+01:00 # remembrer URL encoding? : is %3A , + is %2B, https://www.w3schools.com/tags/ref_urlencode.ASP\n",
    "date = '2021-10-25T08%3A27%3A22.000%2B0100'\n",
    "\n",
    "request_url = 'https://nettskjema.no/api/v2/forms/' + str(formID) + '/submissions?fields=submissionId&fromDate=' + date\n",
    "\n",
    "response = session.get(request_url)\n",
    "subIDs = json.loads(response.content.decode())\n",
    "\n",
    "print('Submissions since date ' + date + ': ' + str(len(subIDs)))\n",
    "if len(subIDs)<5:\n",
    "    print(subIDs)\n",
    "else:\n",
    "    print(subIDs[:2])\n"
   ]
  },
  {
   "cell_type": "markdown",
   "metadata": {},
   "source": [
    "Forms that do not collect personal information on Nettskjema do not retain dates in a format that can be retrieved this way. You will get this error when trying to restrict the response range by date: \n",
    "\n",
    "`{'statusCode': 409, 'message': 'Since the form does not collect personal data, the submissions will not have dates to compare with the fromDate parameter', 'errors': None, 'nestedErrors': None}`\n",
    "\n",
    "However, because submissionIDs are assigned consecutively across the platform, we can still restrict the call to responses collected since a certain submissionID number. If you are monitoring an active survey, it is convenient to use the ID of the first `[0]` subID from your last API call. "
   ]
  },
  {
   "cell_type": "code",
   "execution_count": 48,
   "metadata": {},
   "outputs": [
    {
     "name": "stdout",
     "output_type": "stream",
     "text": [
      "Submissions since subID 16653000: 3\n",
      "[{'submissionId': 16674015}, {'submissionId': 16653694}, {'submissionId': 16653300}]\n"
     ]
    }
   ],
   "source": [
    "# how to call submissions from after a certain ID, restricting metadata to submission ID\n",
    "# curl command template\"\n",
    "# $ curl 'https://nettskjema.no/api/v2/forms/225781/submissions?fields=submissionId&fromSubmissionId=16653694' -i -X GET \\\n",
    "#   -H 'Authorization: Bearer TOKEN'\n",
    "\n",
    "formID = 225781\n",
    "submissionID = 16653000\n",
    "request_url = 'https://nettskjema.no/api/v2/forms/' + str(formID) + '/submissions?fields=submissionId&fromSubmissionId=' + str(submissionID)\n",
    "response = session.get(request_url)\n",
    "subIDs = json.loads(response.content.decode())\n",
    "print('Submissions since subID ' + str(submissionID) + ': ' + str(len(subIDs)))\n",
    "if len(subIDs)<5: # print error message or top responses \n",
    "    print(subIDs)\n",
    "else:\n",
    "    print(subIDs[0])\n"
   ]
  },
  {
   "cell_type": "markdown",
   "metadata": {},
   "source": [
    "# Gathering Musiclab phone sensor data\n",
    "The above commands cover access to forms that collection information strickly through the webform interface. Apps like Musiclab also gather information in different shapes that are stored by nettskjema as attachments to submissions (responses). These are a bit trickier to retrieve, but still accessible through the API. \n",
    "\n",
    "Note: the following cells will not run without permissions for the MusicLab form on Nettskjema, but the shape should be the same for any forms that collects attachments with submissions."
   ]
  },
  {
   "cell_type": "code",
   "execution_count": 53,
   "metadata": {},
   "outputs": [
    {
     "name": "stdout",
     "output_type": "stream",
     "text": [
      "Submissions since subID 16561653: 23503\n",
      "{'submissionId': 16767882, 'createdDate': '2021-10-29T08:40:57.000+0200', 'modifiedDate': '2021-10-29T08:40:57.000+0200', 'delivered': True, 'answerTime': 0, 'answers': [{'answerId': 103133022, 'questionId': 1996788, 'textAnswer': 'data.zip', 'attachments': [{'answerAttachmentId': 302365, 'fileName': 'data.zip', 'mediaType': 'application/zip'}]}, {'answerId': 103133021, 'questionId': 1996787, 'textAnswer': 'cfcd73d7-4af9-08e2-aa6a-e73e87bbfbf3'}]}\n"
     ]
    }
   ],
   "source": [
    "# get metadata on submissions for the music lab app\n",
    "\n",
    "formID = 141510\n",
    "submissionID = 16561653\n",
    "request_url = 'https://nettskjema.no/api/v2/forms/' + str(formID) + '/submissions?fromSubmissionId=' + str(submissionID)\n",
    "response = session.get(request_url)\n",
    "subIDs = json.loads(response.content.decode())\n",
    "print('Submissions since subID ' + str(submissionID) + ': ' + str(len(subIDs)))\n",
    "if len(subIDs)<5: # print error message or top responses \n",
    "    print(subIDs)\n",
    "else:\n",
    "    print(subIDs[0])\n"
   ]
  },
  {
   "cell_type": "markdown",
   "metadata": {},
   "source": [
    "In order to retrieve the sensor data stored in the submission attachment, we have to call for each file individually and save it appropriately. Here are the essential details from one submission out of the metadata called above. "
   ]
  },
  {
   "cell_type": "code",
   "execution_count": 65,
   "metadata": {},
   "outputs": [
    {
     "name": "stdout",
     "output_type": "stream",
     "text": [
      "submissionID : 16767882\n",
      "Submitting instillation: cfcd73d7-4af9-08e2-aa6a-e73e87bbfbf3\n"
     ]
    },
    {
     "data": {
      "text/plain": [
       "{'answerAttachmentId': 302365,\n",
       " 'fileName': 'data.zip',\n",
       " 'mediaType': 'application/zip'}"
      ]
     },
     "execution_count": 65,
     "metadata": {},
     "output_type": "execute_result"
    }
   ],
   "source": [
    "subn = 0\n",
    "print('submissionID : ' + str(subIDs[subn]['submissionId']))\n",
    "print('Submitting instillation: ' + subIDs[subn]['answers'][1]['textAnswer'])\n",
    "subIDs[subn]['answers'][0]['attachments'][0]"
   ]
  },
  {
   "cell_type": "markdown",
   "metadata": {},
   "source": [
    "so to call the attachment for that submission we use the request:"
   ]
  },
  {
   "cell_type": "code",
   "execution_count": 84,
   "metadata": {},
   "outputs": [
    {
     "name": "stdout",
     "output_type": "stream",
     "text": [
      "{'fileName': 'data.zip', 'fileSize': 10637, 'mediaType': 'application/zip', 'content': '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'}\n"
     ]
    }
   ],
   "source": [
    "subn = 0 # just calling one as an example\n",
    "\n",
    "subID = str(subIDs[subn]['submissionId'])\n",
    "attID = str(subIDs[subn]['answers'][0]['attachments'][0]['answerAttachmentId'])\n",
    "request_url = 'https://nettskjema.no/api/v2/submissions/' + subID + '/attachments/' + attID\n",
    "response = session.get(request_url)\n",
    "\n",
    "att_dets = json.loads(response.content.decode())\n",
    "print(att_dets)\n"
   ]
  },
  {
   "cell_type": "markdown",
   "metadata": {},
   "source": [
    "The nettskjema API returns attachments as encoded zipfiles in byte strings. To make these readable, we need to decode then save the string as a zip file and then unzip them. Thankfully there are python libraries for this.  \n",
    "\n",
    "First be sure you are in a suitable local folder, then unpack the attachement."
   ]
  },
  {
   "cell_type": "code",
   "execution_count": 67,
   "metadata": {},
   "outputs": [],
   "source": [
    "os.mkdir('./Test_API')\n",
    "os.chdir('Test_API')"
   ]
  },
  {
   "cell_type": "code",
   "execution_count": 69,
   "metadata": {},
   "outputs": [
    {
     "name": "stdout",
     "output_type": "stream",
     "text": [
      "['data.zip', '16767882']\n",
      "['cfcd73d7-4af9-08e2-aa6a-e73e87bbfbf3.deviceMotion.csv']\n"
     ]
    }
   ],
   "source": [
    "subn = 0 # just calling one as an example\n",
    "\n",
    "subID = str(subIDs[subn]['submissionId'])\n",
    "attID = str(subIDs[subn]['answers'][0]['attachments'][0]['answerAttachmentId'])\n",
    "request_url = 'https://nettskjema.no/api/v2/submissions/' + subID + '/attachments/' + attID\n",
    "response = session.get(request_url)\n",
    "\n",
    "att_dets = json.loads(response.content.decode())\n",
    "\n",
    "# write the decoded attachment into a zip file\n",
    "f=open('data.zip', 'wb')\n",
    "f.write(base64.b64decode(att_dets['content']))\n",
    "f.close()\n",
    "\n",
    "# and then unzip that file, leaving a uniquely titled csv, I hope\n",
    "with zipfile.ZipFile('data.zip', 'r') as zip_ref:\n",
    "    if not os.path.exists(str(subID)):\n",
    "        os.mkdir(str(subID))\n",
    "        zip_ref.extractall('./'+str(subID)) # Not unique filenames so use the unique submission IDs \n",
    "\n",
    "print(os.listdir())\n",
    "os.chdir('./'+str(subID))\n",
    "print(os.listdir())\n",
    "os.chdir('..')"
   ]
  },
  {
   "cell_type": "markdown",
   "metadata": {},
   "source": [
    "Here we have a minute recording from a device with the unique installation ID 'cfcd73d7-4a...' in a format that is easy to read. "
   ]
  },
  {
   "cell_type": "markdown",
   "metadata": {},
   "source": [
    "The files within the zip are named for the device and information type, but do not include the submission number. This means if they are opened into a folder that already contains a previous recording from the same device, the previously saved recording will be overwritten and lost. To avoid this, the files are unzipped within a folder names for that unique submission. \n",
    "\n",
    "Now to collect many at once: "
   ]
  },
  {
   "cell_type": "code",
   "execution_count": 82,
   "metadata": {},
   "outputs": [
    {
     "name": "stdout",
     "output_type": "stream",
     "text": [
      "time to collect 10 attachments: 0.8018779754638672\n"
     ]
    }
   ],
   "source": [
    "# pull in the data files and unpack them\n",
    "\n",
    "newSubs = 0 # count the submission sampled\n",
    "tic = time.time()\n",
    "for submis in subIDs[:10]: # just getting 10 as a test\n",
    "    # first find out the attachment file ID for this submission\n",
    "    subID = str(submis['submissionId'])\n",
    "    # if there is an IDed attachment for this submission, get the file\n",
    "    for subm in submis['answers']:\n",
    "        if len(subm)>3:\n",
    "            attID = str(subm['attachments'][0]['answerAttachmentId'])\n",
    "            request_url = 'https://nettskjema.no/api/v2/submissions/' + subID + '/attachments/' + attID\n",
    "            response = session.get(request_url)\n",
    "            newSubs += 1\n",
    "            att_dets = json.loads(response.content.decode())\n",
    "            # write the decoded attachment into a zip file\n",
    "            f=open('data.zip', 'wb')\n",
    "            f.write(base64.b64decode(att_dets['content']))\n",
    "            f.close()\n",
    "            # and then unzip that file, leaving a uniquely titled csv, I hope\n",
    "            with zipfile.ZipFile('data.zip', 'r') as zip_ref:\n",
    "                if not os.path.exists(str(subID)):\n",
    "                    os.mkdir(str(subID))\n",
    "                    zip_ref.extractall('./'+str(subID)) # if not unique can use the unique submission IDs \n",
    "\n",
    "print('time to collect ' + str(newSubs) + ' attachments: ' + str(time.time() - tic))"
   ]
  },
  {
   "cell_type": "markdown",
   "metadata": {},
   "source": [
    "The files can then be crawled for with suitable information about which submissions related to which instillations, i.e., what can be sewn together in order. "
   ]
  },
  {
   "cell_type": "markdown",
   "metadata": {},
   "source": [
    "## compressing submission files\n",
    "For some forms of storage and retrieval of unzipped data, this folder-per-submission arrangement is really awkward. The following script moves the files from a long list of folders to a single folder while addng the submission number to filenames to preserve uniqueness. "
   ]
  },
  {
   "cell_type": "code",
   "execution_count": 87,
   "metadata": {},
   "outputs": [],
   "source": [
    "os.chdir('..')\n",
    "os.mkdir('CompressedData')"
   ]
  },
  {
   "cell_type": "code",
   "execution_count": 88,
   "metadata": {},
   "outputs": [
    {
     "data": {
      "text/plain": [
       "['.DS_Store',\n",
       " '16759222',\n",
       " 'data.zip',\n",
       " '16767882',\n",
       " '16758800',\n",
       " '16767010',\n",
       " '16765118',\n",
       " '16766563',\n",
       " '16767008',\n",
       " '16765068',\n",
       " '16767014',\n",
       " '16767875']"
      ]
     },
     "execution_count": 88,
     "metadata": {},
     "output_type": "execute_result"
    }
   ],
   "source": [
    "folders = os.listdir('Test_API')\n",
    "folders "
   ]
  },
  {
   "cell_type": "code",
   "execution_count": 90,
   "metadata": {},
   "outputs": [
    {
     "data": {
      "text/plain": [
       "['16759222.eee6b926-0668-bd0e-883b-086fea086c3e.geoLocation.csv',\n",
       " '16767010.cc61a83b-5b8a-6939-6294-5466a6a9d573.deviceMotion.csv',\n",
       " '16767010.cc61a83b-5b8a-6939-6294-5466a6a9d573.geoLocation.csv',\n",
       " '16767008.cc61a83b-5b8a-6939-6294-5466a6a9d573.deviceMotion.csv',\n",
       " '16767014.cc61a83b-5b8a-6939-6294-5466a6a9d573.geoLocation.csv',\n",
       " '16767014.cc61a83b-5b8a-6939-6294-5466a6a9d573.deviceMotion.csv',\n",
       " '16765118.97d16b6e-81fa-3a8b-e467-45b7d431861a.deviceMotion.csv',\n",
       " '16767882.cfcd73d7-4af9-08e2-aa6a-e73e87bbfbf3.deviceMotion.csv',\n",
       " '16765068.97d16b6e-81fa-3a8b-e467-45b7d431861a.deviceMotion.csv',\n",
       " '16759222.eee6b926-0668-bd0e-883b-086fea086c3e.deviceMotion.csv',\n",
       " '16767875.cfcd73d7-4af9-08e2-aa6a-e73e87bbfbf3.deviceMotion.csv',\n",
       " '16766563.aef954a6-ece4-ed70-b034-6c02904b2fe6.geoLocation.csv',\n",
       " '16758800.00afa8df-4bef-a5ae-55b2-44933117603a.deviceMotion.csv',\n",
       " '16767008.cc61a83b-5b8a-6939-6294-5466a6a9d573.geoLocation.csv',\n",
       " '16766563.aef954a6-ece4-ed70-b034-6c02904b2fe6.deviceMotion.csv']"
      ]
     },
     "execution_count": 90,
     "metadata": {},
     "output_type": "execute_result"
    }
   ],
   "source": [
    "for subid in folders:\n",
    "    if subid.startswith('1'):\n",
    "        filenames = os.listdir('./Test_API/'+str(subid))\n",
    "        #print(filenames)\n",
    "        for fn in filenames:\n",
    "            if fn.endswith('.csv'):\n",
    "                sourcefile = './Test_API/'+str(subid) + '/' + fn\n",
    "                targetfile = './CompressedData/'+str(subid) + '.' + fn\n",
    "                #print(targetfile)\n",
    "                os.rename(sourcefile,targetfile)\n",
    "                \n",
    "os.listdir('./CompressedData/')"
   ]
  },
  {
   "cell_type": "markdown",
   "metadata": {},
   "source": [
    "Now, if we need to use sftp to move the data, we don't need to crawl through thousands of folders to find it. "
   ]
  },
  {
   "cell_type": "markdown",
   "metadata": {},
   "source": [
    "# Check out other forms\n",
    "Try to convert other forms response data into convenient formats for analysis"
   ]
  },
  {
   "cell_type": "code",
   "execution_count": 93,
   "metadata": {},
   "outputs": [],
   "source": [
    "import pandas as pd"
   ]
  },
  {
   "cell_type": "code",
   "execution_count": 91,
   "metadata": {},
   "outputs": [],
   "source": [
    "formes = [141510,225781,225357,225336,225387,225707,225692,225713,225713,225702,225709,225693,225714,225695,225711]\n"
   ]
  },
  {
   "cell_type": "code",
   "execution_count": 107,
   "metadata": {},
   "outputs": [
    {
     "data": {
      "text/plain": [
       "{'formId': 225357,\n",
       " 'languageCode': 'en',\n",
       " 'title': '1 Pre-Virtual Concert (English) MusicLab Copenhagen ',\n",
       " 'deliveryDestination': 'DATABASE',\n",
       " 'formType': 'DEFAULT',\n",
       " 'theme': 'DEFAULT',\n",
       " 'createdBy': {'personId': 616293,\n",
       "  'username': 'danasw@uio.no',\n",
       "  'fullName': 'Dana Swarbrick',\n",
       "  'name': 'Dana Swarbrick',\n",
       "  'type': 'LOCAL'},\n",
       " 'modifiedBy': {'personId': 1676908,\n",
       "  'username': 'finnu@uio.no',\n",
       "  'fullName': 'Finn Upham',\n",
       "  'name': 'Finn Upham',\n",
       "  'type': 'LOCAL'},\n",
       " 'createdDate': '2021-10-20T09:31:41.000+0200',\n",
       " 'modifiedDate': '2021-10-29T09:34:59.000+0200',\n",
       " 'openFrom': '2021-10-27T09:44:31.000+0200',\n",
       " 'respondentGroup': 'ALL',\n",
       " 'editorsContactEmail': 'danasw@uio.no',\n",
       " 'editorsSubmissionEmailType': 'NONE',\n",
       " 'editors': [{'personId': 573969,\n",
       "   'username': 'kaylab@uio.no',\n",
       "   'fullName': 'Kayla Burnim',\n",
       "   'name': 'Kayla Burnim',\n",
       "   'type': 'LOCAL'},\n",
       "  {'personId': 1914058,\n",
       "   'username': 'finnu1@api',\n",
       "   'fullName': 'finn ritmo access',\n",
       "   'name': 'finn ritmo access',\n",
       "   'type': 'API'},\n",
       "  {'personId': 1676908,\n",
       "   'username': 'finnu@uio.no',\n",
       "   'fullName': 'Finn Upham',\n",
       "   'name': 'Finn Upham',\n",
       "   'type': 'LOCAL'},\n",
       "  {'personId': 616293,\n",
       "   'username': 'danasw@uio.no',\n",
       "   'fullName': 'Dana Swarbrick',\n",
       "   'name': 'Dana Swarbrick',\n",
       "   'type': 'LOCAL'}],\n",
       " 'netgroupsEditor': [{'netgroupId': 14649, 'name': 'ritmo'}],\n",
       " 'collectsPersonalData': False,\n",
       " 'maxSubmissionsPerson': 1,\n",
       " 'retainRespondentAccessAfterDelivery': False,\n",
       " 'clientPostponable': False,\n",
       " 'scoreResultDisplayType': 'NONE',\n",
       " 'sensitivePersonalDataCollected': False,\n",
       " 'codebookActivated': False,\n",
       " 'shouldHideProgressBar': False,\n",
       " 'shouldPreventDataManipulation': False,\n",
       " 'shouldGetRespondentInfoFromPerson': False,\n",
       " 'elements': [{'elementId': 3484825,\n",
       "   'elementType': 'QUESTION',\n",
       "   'sequence': 1,\n",
       "   'questions': [{'questionId': 3740598,\n",
       "     'sequence': 1,\n",
       "     'elementType': 'QUESTION',\n",
       "     'mandatory': False,\n",
       "     'text': 'userID',\n",
       "     'sendAdditionalRecipientEmail': False,\n",
       "     'horizontal': False,\n",
       "     'rangeMarksShown': False}]},\n",
       "  {'elementId': 3478911,\n",
       "   'elementType': 'TEXT',\n",
       "   'sequence': 2,\n",
       "   'description': '<p>Welcome to MusicLab Copenhagen! Please fill out this form before the concert.</p>\\n\\n<p></p>\\n'},\n",
       "  {'elementId': 3479045,\n",
       "   'elementType': 'QUESTION',\n",
       "   'sequence': 3,\n",
       "   'questions': [{'questionId': 3733733,\n",
       "     'sequence': 1,\n",
       "     'elementType': 'QUESTION',\n",
       "     'mandatory': False,\n",
       "     'text': 'Please specify the city you are streaming from:',\n",
       "     'sendAdditionalRecipientEmail': False,\n",
       "     'horizontal': False,\n",
       "     'rangeMarksShown': False}]},\n",
       "  {'elementId': 3479046,\n",
       "   'elementType': 'QUESTION',\n",
       "   'sequence': 4,\n",
       "   'questions': [{'questionId': 3733734,\n",
       "     'sequence': 1,\n",
       "     'elementType': 'QUESTION',\n",
       "     'description': '<p><span style=\"font-size:20.8px\">Fill in the number of people you are viewing the concert with:\\xa0</span></p>\\n\\n<p></p>\\n',\n",
       "     'mandatory': False,\n",
       "     'text': 'Are you viewing the concert with anyone you know?',\n",
       "     'sendAdditionalRecipientEmail': False,\n",
       "     'horizontal': False,\n",
       "     'rangeMarksShown': False}]},\n",
       "  {'elementId': 3479047,\n",
       "   'elementType': 'QUESTION',\n",
       "   'sequence': 5,\n",
       "   'questions': [{'questionId': 3733735,\n",
       "     'sequence': 1,\n",
       "     'elementType': 'QUESTION',\n",
       "     'mandatory': False,\n",
       "     'text': 'What is your age?',\n",
       "     'sendAdditionalRecipientEmail': False,\n",
       "     'horizontal': False,\n",
       "     'rangeMarksShown': False}]},\n",
       "  {'elementId': 3479048,\n",
       "   'elementType': 'RADIO',\n",
       "   'sequence': 6,\n",
       "   'questions': [{'questionId': 3733736,\n",
       "     'sequence': 1,\n",
       "     'elementType': 'RADIO',\n",
       "     'mandatory': False,\n",
       "     'text': 'What is your gender?',\n",
       "     'answerOptions': [{'answerOptionId': 8624060,\n",
       "       'sequence': 1,\n",
       "       'text': 'Man',\n",
       "       'preselected': False,\n",
       "       'correct': False},\n",
       "      {'answerOptionId': 8624061,\n",
       "       'sequence': 2,\n",
       "       'text': 'Woman',\n",
       "       'preselected': False,\n",
       "       'correct': False},\n",
       "      {'answerOptionId': 8624062,\n",
       "       'sequence': 3,\n",
       "       'text': 'Other',\n",
       "       'preselected': False,\n",
       "       'correct': False},\n",
       "      {'answerOptionId': 8624063,\n",
       "       'sequence': 4,\n",
       "       'text': 'Choose not to identify',\n",
       "       'preselected': False,\n",
       "       'correct': False}],\n",
       "     'sendAdditionalRecipientEmail': False,\n",
       "     'horizontal': False,\n",
       "     'rangeMarksShown': False}]},\n",
       "  {'elementId': 3479049,\n",
       "   'elementType': 'RADIO',\n",
       "   'sequence': 7,\n",
       "   'questions': [{'questionId': 3733737,\n",
       "     'sequence': 1,\n",
       "     'elementType': 'RADIO',\n",
       "     'mandatory': False,\n",
       "     'text': 'Which title best describes you?',\n",
       "     'answerOptions': [{'answerOptionId': 8624064,\n",
       "       'sequence': 1,\n",
       "       'text': 'Tone-deaf',\n",
       "       'preselected': False,\n",
       "       'correct': False},\n",
       "      {'answerOptionId': 8624065,\n",
       "       'sequence': 2,\n",
       "       'text': 'Nonmusician',\n",
       "       'preselected': False,\n",
       "       'correct': False},\n",
       "      {'answerOptionId': 8624066,\n",
       "       'sequence': 3,\n",
       "       'text': 'Music-loving nonmusician',\n",
       "       'preselected': False,\n",
       "       'correct': False},\n",
       "      {'answerOptionId': 8624067,\n",
       "       'sequence': 4,\n",
       "       'text': 'Amateur musician',\n",
       "       'preselected': False,\n",
       "       'correct': False},\n",
       "      {'answerOptionId': 8624068,\n",
       "       'sequence': 5,\n",
       "       'text': 'Serious amateur musician',\n",
       "       'preselected': False,\n",
       "       'correct': False},\n",
       "      {'answerOptionId': 8624069,\n",
       "       'sequence': 6,\n",
       "       'text': 'Semiprofessional musician',\n",
       "       'preselected': False,\n",
       "       'correct': False},\n",
       "      {'answerOptionId': 8624070,\n",
       "       'sequence': 7,\n",
       "       'text': 'Professional musician',\n",
       "       'preselected': False,\n",
       "       'correct': False}],\n",
       "     'sendAdditionalRecipientEmail': False,\n",
       "     'horizontal': False,\n",
       "     'rangeMarksShown': False}]},\n",
       "  {'elementId': 3479050,\n",
       "   'elementType': 'RADIO',\n",
       "   'sequence': 8,\n",
       "   'questions': [{'questionId': 3733738,\n",
       "     'sequence': 1,\n",
       "     'elementType': 'RADIO',\n",
       "     'mandatory': False,\n",
       "     'text': 'What is your personal relationship to the Danish String Quartet?',\n",
       "     'answerOptions': [{'answerOptionId': 8624071,\n",
       "       'sequence': 1,\n",
       "       'text': 'I am a relative/friend',\n",
       "       'preselected': False,\n",
       "       'correct': False},\n",
       "      {'answerOptionId': 8624072,\n",
       "       'sequence': 2,\n",
       "       'text': 'I don’t have any particular relation to them',\n",
       "       'preselected': False,\n",
       "       'correct': False}],\n",
       "     'sendAdditionalRecipientEmail': False,\n",
       "     'horizontal': False,\n",
       "     'rangeMarksShown': False}]},\n",
       "  {'elementId': 3479051,\n",
       "   'elementType': 'RADIO',\n",
       "   'sequence': 9,\n",
       "   'questions': [{'questionId': 3733739,\n",
       "     'sequence': 1,\n",
       "     'elementType': 'RADIO',\n",
       "     'mandatory': False,\n",
       "     'text': 'Are you a fan or admirer of the Danish String Quartet&#39;s music?',\n",
       "     'answerOptions': [{'answerOptionId': 8624073,\n",
       "       'sequence': 1,\n",
       "       'text': '1 (Neutral Listener)',\n",
       "       'preselected': False,\n",
       "       'correct': False},\n",
       "      {'answerOptionId': 8624074,\n",
       "       'sequence': 2,\n",
       "       'text': '2',\n",
       "       'preselected': False,\n",
       "       'correct': False},\n",
       "      {'answerOptionId': 8624075,\n",
       "       'sequence': 3,\n",
       "       'text': '3',\n",
       "       'preselected': False,\n",
       "       'correct': False},\n",
       "      {'answerOptionId': 8624076,\n",
       "       'sequence': 4,\n",
       "       'text': '4',\n",
       "       'preselected': False,\n",
       "       'correct': False},\n",
       "      {'answerOptionId': 8624077,\n",
       "       'sequence': 5,\n",
       "       'text': '5',\n",
       "       'preselected': False,\n",
       "       'correct': False},\n",
       "      {'answerOptionId': 8624078,\n",
       "       'sequence': 6,\n",
       "       'text': '6',\n",
       "       'preselected': False,\n",
       "       'correct': False},\n",
       "      {'answerOptionId': 8624079,\n",
       "       'sequence': 7,\n",
       "       'text': '7 (Big Fan/Admirer)',\n",
       "       'preselected': False,\n",
       "       'correct': False}],\n",
       "     'sendAdditionalRecipientEmail': False,\n",
       "     'horizontal': False,\n",
       "     'rangeMarksShown': False}]},\n",
       "  {'elementId': 3479310,\n",
       "   'elementType': 'TEXT',\n",
       "   'sequence': 10,\n",
       "   'description': '<p>The following statements inquire about your thoughts and feelings in a variety of situations. For each item, indicate how well it describes you by choosing the appropriate option.\\xa0</p>\\n\\n<p></p>\\n'},\n",
       "  {'elementId': 3479052,\n",
       "   'elementType': 'RADIO',\n",
       "   'sequence': 11,\n",
       "   'questions': [{'questionId': 3733740,\n",
       "     'sequence': 1,\n",
       "     'elementType': 'RADIO',\n",
       "     'mandatory': False,\n",
       "     'text': 'I often have tender, concerned feelings for people less fortunate than me.',\n",
       "     'answerOptions': [{'answerOptionId': 8624595,\n",
       "       'sequence': 1,\n",
       "       'text': '1 (Does not describe me well)',\n",
       "       'preselected': False,\n",
       "       'correct': False},\n",
       "      {'answerOptionId': 8624596,\n",
       "       'sequence': 2,\n",
       "       'text': '2',\n",
       "       'preselected': False,\n",
       "       'correct': False},\n",
       "      {'answerOptionId': 8624597,\n",
       "       'sequence': 3,\n",
       "       'text': '3',\n",
       "       'preselected': False,\n",
       "       'correct': False},\n",
       "      {'answerOptionId': 8624598,\n",
       "       'sequence': 4,\n",
       "       'text': '4',\n",
       "       'preselected': False,\n",
       "       'correct': False},\n",
       "      {'answerOptionId': 8624599,\n",
       "       'sequence': 5,\n",
       "       'text': '5 (Describes me very well)',\n",
       "       'preselected': False,\n",
       "       'correct': False}],\n",
       "     'sendAdditionalRecipientEmail': False,\n",
       "     'horizontal': False,\n",
       "     'rangeMarksShown': False}]},\n",
       "  {'elementId': 3479311,\n",
       "   'elementType': 'RADIO',\n",
       "   'sequence': 12,\n",
       "   'questions': [{'questionId': 3734047,\n",
       "     'sequence': 1,\n",
       "     'elementType': 'RADIO',\n",
       "     'mandatory': False,\n",
       "     'text': 'Sometimes I don&#39;t feel sorry for other people when they are having problems.',\n",
       "     'answerOptions': [{'answerOptionId': 8624600,\n",
       "       'sequence': 1,\n",
       "       'text': '1 (Does not describe me well)',\n",
       "       'preselected': False,\n",
       "       'correct': False},\n",
       "      {'answerOptionId': 8624601,\n",
       "       'sequence': 2,\n",
       "       'text': '2',\n",
       "       'preselected': False,\n",
       "       'correct': False},\n",
       "      {'answerOptionId': 8624602,\n",
       "       'sequence': 3,\n",
       "       'text': '3',\n",
       "       'preselected': False,\n",
       "       'correct': False},\n",
       "      {'answerOptionId': 8624603,\n",
       "       'sequence': 4,\n",
       "       'text': '4',\n",
       "       'preselected': False,\n",
       "       'correct': False},\n",
       "      {'answerOptionId': 8624604,\n",
       "       'sequence': 5,\n",
       "       'text': '5 (Describes me very well)',\n",
       "       'preselected': False,\n",
       "       'correct': False}],\n",
       "     'sendAdditionalRecipientEmail': False,\n",
       "     'horizontal': False,\n",
       "     'rangeMarksShown': False}]},\n",
       "  {'elementId': 3479312,\n",
       "   'elementType': 'RADIO',\n",
       "   'sequence': 13,\n",
       "   'questions': [{'questionId': 3734048,\n",
       "     'sequence': 1,\n",
       "     'elementType': 'RADIO',\n",
       "     'mandatory': False,\n",
       "     'text': 'When I see someone being taken advantage of, I feel kind of protective towards them.',\n",
       "     'answerOptions': [{'answerOptionId': 8624605,\n",
       "       'sequence': 1,\n",
       "       'text': '1 (Does not describe me well)',\n",
       "       'preselected': False,\n",
       "       'correct': False},\n",
       "      {'answerOptionId': 8624606,\n",
       "       'sequence': 2,\n",
       "       'text': '2',\n",
       "       'preselected': False,\n",
       "       'correct': False},\n",
       "      {'answerOptionId': 8624607,\n",
       "       'sequence': 3,\n",
       "       'text': '3',\n",
       "       'preselected': False,\n",
       "       'correct': False},\n",
       "      {'answerOptionId': 8624608,\n",
       "       'sequence': 4,\n",
       "       'text': '4',\n",
       "       'preselected': False,\n",
       "       'correct': False},\n",
       "      {'answerOptionId': 8624609,\n",
       "       'sequence': 5,\n",
       "       'text': '5 (Describes me very well)',\n",
       "       'preselected': False,\n",
       "       'correct': False}],\n",
       "     'sendAdditionalRecipientEmail': False,\n",
       "     'horizontal': False,\n",
       "     'rangeMarksShown': False}]},\n",
       "  {'elementId': 3479313,\n",
       "   'elementType': 'RADIO',\n",
       "   'sequence': 14,\n",
       "   'questions': [{'questionId': 3734049,\n",
       "     'sequence': 1,\n",
       "     'elementType': 'RADIO',\n",
       "     'mandatory': False,\n",
       "     'text': 'Other people&#39;s misfortunes do not usually disturb me a great deal.',\n",
       "     'answerOptions': [{'answerOptionId': 8624610,\n",
       "       'sequence': 1,\n",
       "       'text': '1 (Does not describe me well)',\n",
       "       'preselected': False,\n",
       "       'correct': False},\n",
       "      {'answerOptionId': 8624611,\n",
       "       'sequence': 2,\n",
       "       'text': '2',\n",
       "       'preselected': False,\n",
       "       'correct': False},\n",
       "      {'answerOptionId': 8624612,\n",
       "       'sequence': 3,\n",
       "       'text': '3',\n",
       "       'preselected': False,\n",
       "       'correct': False},\n",
       "      {'answerOptionId': 8624613,\n",
       "       'sequence': 4,\n",
       "       'text': '4',\n",
       "       'preselected': False,\n",
       "       'correct': False},\n",
       "      {'answerOptionId': 8624614,\n",
       "       'sequence': 5,\n",
       "       'text': '5 (Describes me very well)',\n",
       "       'preselected': False,\n",
       "       'correct': False}],\n",
       "     'sendAdditionalRecipientEmail': False,\n",
       "     'horizontal': False,\n",
       "     'rangeMarksShown': False}]},\n",
       "  {'elementId': 3479314,\n",
       "   'elementType': 'RADIO',\n",
       "   'sequence': 15,\n",
       "   'questions': [{'questionId': 3734050,\n",
       "     'sequence': 1,\n",
       "     'elementType': 'RADIO',\n",
       "     'mandatory': False,\n",
       "     'text': 'When I see someone being treated unfairly, I sometimes don&#39;t feel very much pity for them.',\n",
       "     'answerOptions': [{'answerOptionId': 8624615,\n",
       "       'sequence': 1,\n",
       "       'text': '1 (Does not describe me well)',\n",
       "       'preselected': False,\n",
       "       'correct': False},\n",
       "      {'answerOptionId': 8624616,\n",
       "       'sequence': 2,\n",
       "       'text': '2',\n",
       "       'preselected': False,\n",
       "       'correct': False},\n",
       "      {'answerOptionId': 8624617,\n",
       "       'sequence': 3,\n",
       "       'text': '3',\n",
       "       'preselected': False,\n",
       "       'correct': False},\n",
       "      {'answerOptionId': 8624618,\n",
       "       'sequence': 4,\n",
       "       'text': '4',\n",
       "       'preselected': False,\n",
       "       'correct': False},\n",
       "      {'answerOptionId': 8624619,\n",
       "       'sequence': 5,\n",
       "       'text': '5 (Describes me very well)',\n",
       "       'preselected': False,\n",
       "       'correct': False}],\n",
       "     'sendAdditionalRecipientEmail': False,\n",
       "     'horizontal': False,\n",
       "     'rangeMarksShown': False}]},\n",
       "  {'elementId': 3479315,\n",
       "   'elementType': 'RADIO',\n",
       "   'sequence': 16,\n",
       "   'questions': [{'questionId': 3734051,\n",
       "     'sequence': 1,\n",
       "     'elementType': 'RADIO',\n",
       "     'mandatory': False,\n",
       "     'text': 'I am often quite touched by things that I see happen.',\n",
       "     'answerOptions': [{'answerOptionId': 8624620,\n",
       "       'sequence': 1,\n",
       "       'text': '1 (Does not describe me well)',\n",
       "       'preselected': False,\n",
       "       'correct': False},\n",
       "      {'answerOptionId': 8624621,\n",
       "       'sequence': 2,\n",
       "       'text': '2',\n",
       "       'preselected': False,\n",
       "       'correct': False},\n",
       "      {'answerOptionId': 8624622,\n",
       "       'sequence': 3,\n",
       "       'text': '3',\n",
       "       'preselected': False,\n",
       "       'correct': False},\n",
       "      {'answerOptionId': 8624623,\n",
       "       'sequence': 4,\n",
       "       'text': '4',\n",
       "       'preselected': False,\n",
       "       'correct': False},\n",
       "      {'answerOptionId': 8624624,\n",
       "       'sequence': 5,\n",
       "       'text': '5 (Describes me very well)',\n",
       "       'preselected': False,\n",
       "       'correct': False}],\n",
       "     'sendAdditionalRecipientEmail': False,\n",
       "     'horizontal': False,\n",
       "     'rangeMarksShown': False}]},\n",
       "  {'elementId': 3479316,\n",
       "   'elementType': 'RADIO',\n",
       "   'sequence': 17,\n",
       "   'questions': [{'questionId': 3734052,\n",
       "     'sequence': 1,\n",
       "     'elementType': 'RADIO',\n",
       "     'mandatory': False,\n",
       "     'text': 'I would describe myself as a pretty soft-hearted person.',\n",
       "     'answerOptions': [{'answerOptionId': 8624625,\n",
       "       'sequence': 1,\n",
       "       'text': '1 (Does not describe me well)',\n",
       "       'preselected': False,\n",
       "       'correct': False},\n",
       "      {'answerOptionId': 8624626,\n",
       "       'sequence': 2,\n",
       "       'text': '2',\n",
       "       'preselected': False,\n",
       "       'correct': False},\n",
       "      {'answerOptionId': 8624627,\n",
       "       'sequence': 3,\n",
       "       'text': '3',\n",
       "       'preselected': False,\n",
       "       'correct': False},\n",
       "      {'answerOptionId': 8624628,\n",
       "       'sequence': 4,\n",
       "       'text': '4',\n",
       "       'preselected': False,\n",
       "       'correct': False},\n",
       "      {'answerOptionId': 8624629,\n",
       "       'sequence': 5,\n",
       "       'text': '5 (Describes me very well)',\n",
       "       'preselected': False,\n",
       "       'correct': False}],\n",
       "     'sendAdditionalRecipientEmail': False,\n",
       "     'horizontal': False,\n",
       "     'rangeMarksShown': False}]}],\n",
       " 'newDesignEnabledSetting': 'ALWAYS',\n",
       " 'open': True,\n",
       " 'possibleToHaveInvitations': False,\n",
       " 'sendingReceiptToRespondent': False}"
      ]
     },
     "execution_count": 107,
     "metadata": {},
     "output_type": "execute_result"
    }
   ],
   "source": [
    "formID = formes[2]\n",
    "request_url = 'https://nettskjema.no/api/v2/forms/' + str(formID)\n",
    "response = session.get(request_url) # using the request session call which includes the saved API token\n",
    "form_metadata = json.loads(response.content.decode()) # inteprete recieved string into a python native datatype\n",
    "form_metadata # show the information output"
   ]
  },
  {
   "cell_type": "code",
   "execution_count": 117,
   "metadata": {},
   "outputs": [
    {
     "name": "stdout",
     "output_type": "stream",
     "text": [
      "3484825 QUESTION\n",
      "\t Qid: 3740598\n",
      "\t Q: userID\n",
      "3478911 TEXT\n",
      "3479045 QUESTION\n",
      "\t Qid: 3733733\n",
      "\t Q: Please specify the city you are streaming from:\n",
      "3479046 QUESTION\n",
      "\t Qid: 3733734\n",
      "\t Q: Are you viewing the concert with anyone you know?\n",
      "3479047 QUESTION\n",
      "\t Qid: 3733735\n",
      "\t Q: What is your age?\n",
      "3479048 RADIO\n",
      "\t Qid: 3733736\n",
      "\t Q: What is your gender?\n",
      "\t \tMan\n",
      "\t \tWoman\n",
      "\t \tOther\n",
      "\t \tChoose not to identify\n",
      "3479049 RADIO\n",
      "\t Qid: 3733737\n",
      "\t Q: Which title best describes you?\n",
      "\t \tTone-deaf\n",
      "\t \tNonmusician\n",
      "\t \tMusic-loving nonmusician\n",
      "\t \tAmateur musician\n",
      "\t \tSerious amateur musician\n",
      "\t \tSemiprofessional musician\n",
      "\t \tProfessional musician\n",
      "3479050 RADIO\n",
      "\t Qid: 3733738\n",
      "\t Q: What is your personal relationship to the Danish String Quartet?\n",
      "\t \tI am a relative/friend\n",
      "\t \tI don’t have any particular relation to them\n",
      "3479051 RADIO\n",
      "\t Qid: 3733739\n",
      "\t Q: Are you a fan or admirer of the Danish String Quartet&#39;s music?\n",
      "\t \t1 (Neutral Listener)\n",
      "\t \t2\n",
      "\t \t3\n",
      "\t \t4\n",
      "\t \t5\n",
      "\t \t6\n",
      "\t \t7 (Big Fan/Admirer)\n",
      "3479310 TEXT\n",
      "3479052 RADIO\n",
      "\t Qid: 3733740\n",
      "\t Q: I often have tender, concerned feelings for people less fortunate than me.\n",
      "\t \t1 (Does not describe me well)\n",
      "\t \t2\n",
      "\t \t3\n",
      "\t \t4\n",
      "\t \t5 (Describes me very well)\n",
      "3479311 RADIO\n",
      "\t Qid: 3734047\n",
      "\t Q: Sometimes I don&#39;t feel sorry for other people when they are having problems.\n",
      "\t \t1 (Does not describe me well)\n",
      "\t \t2\n",
      "\t \t3\n",
      "\t \t4\n",
      "\t \t5 (Describes me very well)\n",
      "3479312 RADIO\n",
      "\t Qid: 3734048\n",
      "\t Q: When I see someone being taken advantage of, I feel kind of protective towards them.\n",
      "\t \t1 (Does not describe me well)\n",
      "\t \t2\n",
      "\t \t3\n",
      "\t \t4\n",
      "\t \t5 (Describes me very well)\n",
      "3479313 RADIO\n",
      "\t Qid: 3734049\n",
      "\t Q: Other people&#39;s misfortunes do not usually disturb me a great deal.\n",
      "\t \t1 (Does not describe me well)\n",
      "\t \t2\n",
      "\t \t3\n",
      "\t \t4\n",
      "\t \t5 (Describes me very well)\n",
      "3479314 RADIO\n",
      "\t Qid: 3734050\n",
      "\t Q: When I see someone being treated unfairly, I sometimes don&#39;t feel very much pity for them.\n",
      "\t \t1 (Does not describe me well)\n",
      "\t \t2\n",
      "\t \t3\n",
      "\t \t4\n",
      "\t \t5 (Describes me very well)\n",
      "3479315 RADIO\n",
      "\t Qid: 3734051\n",
      "\t Q: I am often quite touched by things that I see happen.\n",
      "\t \t1 (Does not describe me well)\n",
      "\t \t2\n",
      "\t \t3\n",
      "\t \t4\n",
      "\t \t5 (Describes me very well)\n",
      "3479316 RADIO\n",
      "\t Qid: 3734052\n",
      "\t Q: I would describe myself as a pretty soft-hearted person.\n",
      "\t \t1 (Does not describe me well)\n",
      "\t \t2\n",
      "\t \t3\n",
      "\t \t4\n",
      "\t \t5 (Describes me very well)\n"
     ]
    }
   ],
   "source": [
    "elem = form_metadata['elements']\n",
    "\n",
    "for m in elem:\n",
    "    print(str(m['elementId']) + ' ' + m['elementType'])\n",
    "    if 'questions' in m: \n",
    "        for q in m['questions']:\n",
    "            print('\\t Qid: ' + str(q['questionId']))\n",
    "            print('\\t Q: ' + str(q['text']))\n",
    "            if 'answerOptions' in q:\n",
    "                for a in q['answerOptions']:\n",
    "                    print('\\t \\t' + a['text'])"
   ]
  },
  {
   "cell_type": "code",
   "execution_count": null,
   "metadata": {},
   "outputs": [],
   "source": []
  },
  {
   "cell_type": "code",
   "execution_count": null,
   "metadata": {},
   "outputs": [],
   "source": []
  },
  {
   "cell_type": "code",
   "execution_count": null,
   "metadata": {},
   "outputs": [],
   "source": []
  },
  {
   "cell_type": "code",
   "execution_count": 102,
   "metadata": {},
   "outputs": [
    {
     "name": "stdout",
     "output_type": "stream",
     "text": [
      "77\n",
      "{'submissionId': 16674755, 'createdDate': '2021-10-27T00:00:00.000+0200', 'modifiedDate': '2021-10-27T00:00:00.000+0200', 'delivered': True, 'answerTime': 0, 'answers': [{'answerId': 102753918, 'questionId': 3733736, 'answerOptions': [{'answerOptionId': 8624060, 'sequence': 1, 'text': 'Man', 'preselected': False, 'correct': False}]}, {'answerId': 102753916, 'questionId': 3734050, 'answerOptions': [{'answerOptionId': 8624615, 'sequence': 1, 'text': '1 (Does not describe me well)', 'preselected': False, 'correct': False}]}, {'answerId': 102753917, 'questionId': 3734051, 'answerOptions': [{'answerOptionId': 8624624, 'sequence': 5, 'text': '5 (Describes me very well)', 'preselected': False, 'correct': False}]}, {'answerId': 102753910, 'questionId': 3733739, 'answerOptions': [{'answerOptionId': 8624079, 'sequence': 7, 'text': '7 (Big Fan/Admirer)', 'preselected': False, 'correct': False}]}, {'answerId': 102753920, 'questionId': 3733740, 'answerOptions': [{'answerOptionId': 8624599, 'sequence': 5, 'text': '5 (Describes me very well)', 'preselected': False, 'correct': False}]}, {'answerId': 102753913, 'questionId': 3734048, 'answerOptions': [{'answerOptionId': 8624608, 'sequence': 4, 'text': '4', 'preselected': False, 'correct': False}]}, {'answerId': 102753907, 'questionId': 3733738, 'answerOptions': [{'answerOptionId': 8624072, 'sequence': 2, 'text': 'I don’t have any particular relation to them', 'preselected': False, 'correct': False}]}, {'answerId': 102753921, 'questionId': 3733734, 'textAnswer': 'No'}, {'answerId': 102753912, 'questionId': 3733737, 'answerOptions': [{'answerOptionId': 8624066, 'sequence': 3, 'text': 'Music-loving nonmusician', 'preselected': False, 'correct': False}]}, {'answerId': 102753915, 'questionId': 3734052, 'answerOptions': [{'answerOptionId': 8624629, 'sequence': 5, 'text': '5 (Describes me very well)', 'preselected': False, 'correct': False}]}, {'answerId': 102753911, 'questionId': 3734047, 'answerOptions': [{'answerOptionId': 8624600, 'sequence': 1, 'text': '1 (Does not describe me well)', 'preselected': False, 'correct': False}]}, {'answerId': 102753919, 'questionId': 3740598, 'textAnswer': '83530137-77f7-afa8-b403-eee29ba8198f'}, {'answerId': 102753908, 'questionId': 3734049, 'answerOptions': [{'answerOptionId': 8624610, 'sequence': 1, 'text': '1 (Does not describe me well)', 'preselected': False, 'correct': False}]}, {'answerId': 102753914, 'questionId': 3733735, 'textAnswer': '70'}, {'answerId': 102753909, 'questionId': 3733733, 'textAnswer': 'Carlsbad, CA'}]}\n"
     ]
    }
   ],
   "source": [
    "formID = formes[2]\n",
    "request_url = 'https://nettskjema.no/api/v2/forms/' + str(formID) + '/submissions?fromSubmissionId=1'\n",
    "response = session.get(request_url)\n",
    "subIDs = json.loads(response.content.decode())#eval(response.content.decode())\n",
    "print(len(subIDs))\n",
    "if len(subIDs)<5:\n",
    "    print(subIDs)\n",
    "else:\n",
    "    print(subIDs[0])\n",
    "    "
   ]
  },
  {
   "cell_type": "code",
   "execution_count": 104,
   "metadata": {},
   "outputs": [
    {
     "data": {
      "text/plain": [
       "0     [{'answerId': 102753918, 'questionId': 3733736...\n",
       "1     [{'answerId': 102753897, 'questionId': 3740598...\n",
       "2     [{'answerId': 102698549, 'questionId': 3733735...\n",
       "3     [{'answerId': 102681535, 'questionId': 3733739...\n",
       "4     [{'answerId': 102678579, 'questionId': 3734049...\n",
       "                            ...                        \n",
       "72    [{'answerId': 102498788, 'questionId': 3733735...\n",
       "73    [{'answerId': 102203932, 'questionId': 3734052...\n",
       "74    [{'answerId': 102203910, 'questionId': 3733737...\n",
       "75    [{'answerId': 102052489, 'questionId': 3740598...\n",
       "76    [{'answerId': 102047548, 'questionId': 3733735...\n",
       "Name: answers, Length: 77, dtype: object"
      ]
     },
     "execution_count": 104,
     "metadata": {},
     "output_type": "execute_result"
    }
   ],
   "source": [
    "df = pd.read_json(response.content.decode())\n",
    "# first flush, answers hid a wealth of information. Would be good to get that broken out \n",
    "df.loc[0,'answers']"
   ]
  },
  {
   "cell_type": "code",
   "execution_count": 105,
   "metadata": {},
   "outputs": [
    {
     "data": {
      "text/plain": [
       "[{'answerId': 102753918,\n",
       "  'questionId': 3733736,\n",
       "  'answerOptions': [{'answerOptionId': 8624060,\n",
       "    'sequence': 1,\n",
       "    'text': 'Man',\n",
       "    'preselected': False,\n",
       "    'correct': False}]},\n",
       " {'answerId': 102753916,\n",
       "  'questionId': 3734050,\n",
       "  'answerOptions': [{'answerOptionId': 8624615,\n",
       "    'sequence': 1,\n",
       "    'text': '1 (Does not describe me well)',\n",
       "    'preselected': False,\n",
       "    'correct': False}]},\n",
       " {'answerId': 102753917,\n",
       "  'questionId': 3734051,\n",
       "  'answerOptions': [{'answerOptionId': 8624624,\n",
       "    'sequence': 5,\n",
       "    'text': '5 (Describes me very well)',\n",
       "    'preselected': False,\n",
       "    'correct': False}]},\n",
       " {'answerId': 102753910,\n",
       "  'questionId': 3733739,\n",
       "  'answerOptions': [{'answerOptionId': 8624079,\n",
       "    'sequence': 7,\n",
       "    'text': '7 (Big Fan/Admirer)',\n",
       "    'preselected': False,\n",
       "    'correct': False}]},\n",
       " {'answerId': 102753920,\n",
       "  'questionId': 3733740,\n",
       "  'answerOptions': [{'answerOptionId': 8624599,\n",
       "    'sequence': 5,\n",
       "    'text': '5 (Describes me very well)',\n",
       "    'preselected': False,\n",
       "    'correct': False}]},\n",
       " {'answerId': 102753913,\n",
       "  'questionId': 3734048,\n",
       "  'answerOptions': [{'answerOptionId': 8624608,\n",
       "    'sequence': 4,\n",
       "    'text': '4',\n",
       "    'preselected': False,\n",
       "    'correct': False}]},\n",
       " {'answerId': 102753907,\n",
       "  'questionId': 3733738,\n",
       "  'answerOptions': [{'answerOptionId': 8624072,\n",
       "    'sequence': 2,\n",
       "    'text': 'I don’t have any particular relation to them',\n",
       "    'preselected': False,\n",
       "    'correct': False}]},\n",
       " {'answerId': 102753921, 'questionId': 3733734, 'textAnswer': 'No'},\n",
       " {'answerId': 102753912,\n",
       "  'questionId': 3733737,\n",
       "  'answerOptions': [{'answerOptionId': 8624066,\n",
       "    'sequence': 3,\n",
       "    'text': 'Music-loving nonmusician',\n",
       "    'preselected': False,\n",
       "    'correct': False}]},\n",
       " {'answerId': 102753915,\n",
       "  'questionId': 3734052,\n",
       "  'answerOptions': [{'answerOptionId': 8624629,\n",
       "    'sequence': 5,\n",
       "    'text': '5 (Describes me very well)',\n",
       "    'preselected': False,\n",
       "    'correct': False}]},\n",
       " {'answerId': 102753911,\n",
       "  'questionId': 3734047,\n",
       "  'answerOptions': [{'answerOptionId': 8624600,\n",
       "    'sequence': 1,\n",
       "    'text': '1 (Does not describe me well)',\n",
       "    'preselected': False,\n",
       "    'correct': False}]},\n",
       " {'answerId': 102753919,\n",
       "  'questionId': 3740598,\n",
       "  'textAnswer': '83530137-77f7-afa8-b403-eee29ba8198f'},\n",
       " {'answerId': 102753908,\n",
       "  'questionId': 3734049,\n",
       "  'answerOptions': [{'answerOptionId': 8624610,\n",
       "    'sequence': 1,\n",
       "    'text': '1 (Does not describe me well)',\n",
       "    'preselected': False,\n",
       "    'correct': False}]},\n",
       " {'answerId': 102753914, 'questionId': 3733735, 'textAnswer': '70'},\n",
       " {'answerId': 102753909, 'questionId': 3733733, 'textAnswer': 'Carlsbad, CA'}]"
      ]
     },
     "execution_count": 105,
     "metadata": {},
     "output_type": "execute_result"
    }
   ],
   "source": [
    "df.loc[0,'answers']"
   ]
  },
  {
   "cell_type": "code",
   "execution_count": 106,
   "metadata": {},
   "outputs": [
    {
     "data": {
      "text/plain": [
       "[{'answerId': 102753897,\n",
       "  'questionId': 3740598,\n",
       "  'textAnswer': '83530137-77f7-afa8-b403-eee29ba8198f'},\n",
       " {'answerId': 102753904,\n",
       "  'questionId': 3733739,\n",
       "  'answerOptions': [{'answerOptionId': 8624079,\n",
       "    'sequence': 7,\n",
       "    'text': '7 (Big Fan/Admirer)',\n",
       "    'preselected': False,\n",
       "    'correct': False}]},\n",
       " {'answerId': 102753895,\n",
       "  'questionId': 3733737,\n",
       "  'answerOptions': [{'answerOptionId': 8624066,\n",
       "    'sequence': 3,\n",
       "    'text': 'Music-loving nonmusician',\n",
       "    'preselected': False,\n",
       "    'correct': False}]},\n",
       " {'answerId': 102753892, 'questionId': 3733734, 'textAnswer': 'No'},\n",
       " {'answerId': 102753903,\n",
       "  'questionId': 3733738,\n",
       "  'answerOptions': [{'answerOptionId': 8624072,\n",
       "    'sequence': 2,\n",
       "    'text': 'I don’t have any particular relation to them',\n",
       "    'preselected': False,\n",
       "    'correct': False}]},\n",
       " {'answerId': 102753902,\n",
       "  'questionId': 3733736,\n",
       "  'answerOptions': [{'answerOptionId': 8624060,\n",
       "    'sequence': 1,\n",
       "    'text': 'Man',\n",
       "    'preselected': False,\n",
       "    'correct': False}]},\n",
       " {'answerId': 102753906,\n",
       "  'questionId': 3733740,\n",
       "  'answerOptions': [{'answerOptionId': 8624599,\n",
       "    'sequence': 5,\n",
       "    'text': '5 (Describes me very well)',\n",
       "    'preselected': False,\n",
       "    'correct': False}]},\n",
       " {'answerId': 102753893,\n",
       "  'questionId': 3734047,\n",
       "  'answerOptions': [{'answerOptionId': 8624600,\n",
       "    'sequence': 1,\n",
       "    'text': '1 (Does not describe me well)',\n",
       "    'preselected': False,\n",
       "    'correct': False}]},\n",
       " {'answerId': 102753901, 'questionId': 3733733, 'textAnswer': 'Carlsbad, CA'},\n",
       " {'answerId': 102753900,\n",
       "  'questionId': 3734052,\n",
       "  'answerOptions': [{'answerOptionId': 8624629,\n",
       "    'sequence': 5,\n",
       "    'text': '5 (Describes me very well)',\n",
       "    'preselected': False,\n",
       "    'correct': False}]},\n",
       " {'answerId': 102753896,\n",
       "  'questionId': 3734050,\n",
       "  'answerOptions': [{'answerOptionId': 8624615,\n",
       "    'sequence': 1,\n",
       "    'text': '1 (Does not describe me well)',\n",
       "    'preselected': False,\n",
       "    'correct': False}]},\n",
       " {'answerId': 102753899,\n",
       "  'questionId': 3734049,\n",
       "  'answerOptions': [{'answerOptionId': 8624610,\n",
       "    'sequence': 1,\n",
       "    'text': '1 (Does not describe me well)',\n",
       "    'preselected': False,\n",
       "    'correct': False}]},\n",
       " {'answerId': 102753894,\n",
       "  'questionId': 3734051,\n",
       "  'answerOptions': [{'answerOptionId': 8624624,\n",
       "    'sequence': 5,\n",
       "    'text': '5 (Describes me very well)',\n",
       "    'preselected': False,\n",
       "    'correct': False}]},\n",
       " {'answerId': 102753905,\n",
       "  'questionId': 3734048,\n",
       "  'answerOptions': [{'answerOptionId': 8624608,\n",
       "    'sequence': 4,\n",
       "    'text': '4',\n",
       "    'preselected': False,\n",
       "    'correct': False}]},\n",
       " {'answerId': 102753898, 'questionId': 3733735, 'textAnswer': '70'}]"
      ]
     },
     "execution_count": 106,
     "metadata": {},
     "output_type": "execute_result"
    }
   ],
   "source": [
    "df.loc[1,'answers']"
   ]
  },
  {
   "cell_type": "code",
   "execution_count": null,
   "metadata": {},
   "outputs": [],
   "source": []
  },
  {
   "cell_type": "code",
   "execution_count": null,
   "metadata": {},
   "outputs": [],
   "source": []
  },
  {
   "cell_type": "markdown",
   "metadata": {},
   "source": [
    "# old notes\n",
    "Username\n",
    "Short description\n",
    "Personal owners\n",
    "Last active\n",
    "\n",
    "finnuritmo @ api\n",
    "\n",
    "finnuritmo @ api\n",
    "\n",
    "New token created\n",
    "Token: dar7qsem18ljlqc0ntg8ivbble69nf0g26n8177pk1hlskstanj3gfu78se8q12pro889535p9quqi78akr4hhajijnkj6l0b79aflgdgehlb0ht50870ggkm9t5rnk6fr86\n",
    "Save the token as it is not stored in the Web form.\n",
    "\n",
    "The token can be used for the following API calls:\n",
    "WRITE_FORMS\n",
    "WRITE_INVITATIONS\n",
    "READ_SUBMISSIONS\n",
    "READ_INVITATIONS\n",
    "READ_FORMS\n",
    "Allowed IP addresses : 129.240.0.0/16, 193.157.0.0/16\n",
    "\n",
    "193.157.119.236\n",
    "\n",
    "https://nettskjema.no/user/api/index.html\n",
    "\n",
    "https://lcbc-uio.github.io/nettskjemar/articles/auth_setup.html\n",
    "\n",
    "https://realpython.com/api-integration-in-python/#rest-and-python-consuming-apis\n",
    "\n",
    "https://docs.python-requests.org/en/latest/user/authentication/\n",
    "\n",
    "\n",
    "\n",
    "https://nettskjema.no/a/141510\n",
    "\n",
    "\n",
    "$ curl 'https://nettskjema.no/api/v2/submissions/5136791' -i -X GET \\\n",
    "    -H 'Authorization: Bearer TOKEN'\n",
    "\n",
    "\n",
    "curl 'https://nettskjema.no/api/v2/users/admin/tokens/expire-date' -i -X GET \\ -H 'Authorization: Bearer TOKEN'\n",
    "\n",
    "\n",
    "\n",
    "$ curl 'https://nettskjema.no/api/v2/submissions/141510' -i -X GET -H 'Authorization: finnuritmo @ api TOKEN'\n",
    "\n",
    "\n",
    "curl 'https://nettskjema.no/api/v2/users/admin/tokens/expire-date' -i -X GET \\ -H 'Authorization: Bearer TOKEN'\n",
    "\n",
    "\n",
    "\n",
    "\n",
    "\n",
    "*******\n",
    "base64 --decode customname1.txt > datazip.zip\n",
    "\n",
    "base64 0c6a885b-de29-a128-1480-fe98e4a06f69.geoLocation.csv  > output.txt\n",
    "\n",
    "/Desktop/Current_Projects/Resp_Mobile_recording/DataJockying/data(8).zip\n",
    "\n",
    "\n",
    "\n"
   ]
  },
  {
   "cell_type": "code",
   "execution_count": null,
   "metadata": {},
   "outputs": [],
   "source": []
  }
 ],
 "metadata": {
  "kernelspec": {
   "display_name": "Python 3",
   "language": "python",
   "name": "python3"
  },
  "language_info": {
   "codemirror_mode": {
    "name": "ipython",
    "version": 3
   },
   "file_extension": ".py",
   "mimetype": "text/x-python",
   "name": "python",
   "nbconvert_exporter": "python",
   "pygments_lexer": "ipython3",
   "version": "3.9.0"
  }
 },
 "nbformat": 4,
 "nbformat_minor": 2
}
